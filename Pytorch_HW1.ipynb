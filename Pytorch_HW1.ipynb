{
  "nbformat": 4,
  "nbformat_minor": 0,
  "metadata": {
    "colab": {
      "provenance": []
    },
    "kernelspec": {
      "name": "python3",
      "display_name": "Python 3"
    },
    "language_info": {
      "name": "python"
    }
  },
  "cells": [
    {
      "cell_type": "code",
      "source": [
        "import numpy as np\n",
        "import random\n",
        "import torch"
      ],
      "metadata": {
        "id": "RFY31U7stlwd"
      },
      "execution_count": 1,
      "outputs": []
    },
    {
      "cell_type": "markdown",
      "source": [
        "Создайте случайный FloatTensor размера 3x4x5"
      ],
      "metadata": {
        "id": "QkT98U-htW0W"
      }
    },
    {
      "cell_type": "code",
      "execution_count": 9,
      "metadata": {
        "colab": {
          "base_uri": "https://localhost:8080/"
        },
        "id": "Y4P6SK_qsh0V",
        "outputId": "420973e6-3abe-4366-f79d-6296bc433ee7"
      },
      "outputs": [
        {
          "output_type": "execute_result",
          "data": {
            "text/plain": [
              "tensor([[[0.1006, 0.6363, 0.4298, 0.4317, 0.7891],\n",
              "         [0.3076, 0.5376, 0.6636, 0.4882, 0.0555],\n",
              "         [0.7071, 0.0301, 0.0575, 0.3846, 0.2239],\n",
              "         [0.1454, 0.9682, 0.6252, 0.7655, 0.2429]],\n",
              "\n",
              "        [[0.7099, 0.4587, 0.8965, 0.1306, 0.4174],\n",
              "         [0.4268, 0.2829, 0.7791, 0.2872, 0.7466],\n",
              "         [0.6718, 0.9089, 0.8003, 0.0368, 0.4725],\n",
              "         [0.5360, 0.5384, 0.2267, 0.3895, 0.7857]],\n",
              "\n",
              "        [[0.0885, 0.8162, 0.5524, 0.7393, 0.0087],\n",
              "         [0.5118, 0.1334, 0.1096, 0.7831, 0.4330],\n",
              "         [0.2108, 0.7885, 0.6833, 0.5605, 0.4768],\n",
              "         [0.3881, 0.1233, 0.5831, 0.9115, 0.8352]]])"
            ]
          },
          "metadata": {},
          "execution_count": 9
        }
      ],
      "source": [
        "a = torch.rand(size=(3,4,5), dtype = torch.float)\n",
        "a"
      ]
    },
    {
      "cell_type": "markdown",
      "source": [
        "Выведите его форму (shape)"
      ],
      "metadata": {
        "id": "mN53Gli5udcG"
      }
    },
    {
      "cell_type": "code",
      "source": [
        "a.size()"
      ],
      "metadata": {
        "colab": {
          "base_uri": "https://localhost:8080/"
        },
        "id": "J8bxYVqluWXo",
        "outputId": "a6e4eb99-5acf-473f-b77e-16ca48af1e41"
      },
      "execution_count": 11,
      "outputs": [
        {
          "output_type": "execute_result",
          "data": {
            "text/plain": [
              "torch.Size([3, 4, 5])"
            ]
          },
          "metadata": {},
          "execution_count": 11
        }
      ]
    },
    {
      "cell_type": "markdown",
      "source": [
        "Приведите его к форме 6х10"
      ],
      "metadata": {
        "id": "1UxNiCQVuvui"
      }
    },
    {
      "cell_type": "code",
      "source": [
        "a = a.reshape(6,10)\n",
        "a"
      ],
      "metadata": {
        "colab": {
          "base_uri": "https://localhost:8080/"
        },
        "id": "7vdhof6SuyaN",
        "outputId": "aad3f65e-e65c-4896-cc10-2824891b5bb9"
      },
      "execution_count": 25,
      "outputs": [
        {
          "output_type": "execute_result",
          "data": {
            "text/plain": [
              "tensor([[0.1006, 0.6363, 0.4298, 0.4317, 0.7891, 0.3076, 0.5376, 0.6636, 0.4882,\n",
              "         0.0555],\n",
              "        [0.7071, 0.0301, 0.0575, 0.3846, 0.2239, 0.1454, 0.9682, 0.6252, 0.7655,\n",
              "         0.2429],\n",
              "        [0.7099, 0.4587, 0.8965, 0.1306, 0.4174, 0.4268, 0.2829, 0.7791, 0.2872,\n",
              "         0.7466],\n",
              "        [0.6718, 0.9089, 0.8003, 0.0368, 0.4725, 0.5360, 0.5384, 0.2267, 0.3895,\n",
              "         0.7857],\n",
              "        [0.0885, 0.8162, 0.5524, 0.7393, 0.0087, 0.5118, 0.1334, 0.1096, 0.7831,\n",
              "         0.4330],\n",
              "        [0.2108, 0.7885, 0.6833, 0.5605, 0.4768, 0.3881, 0.1233, 0.5831, 0.9115,\n",
              "         0.8352]])"
            ]
          },
          "metadata": {},
          "execution_count": 25
        }
      ]
    },
    {
      "cell_type": "markdown",
      "source": [
        "Создайте случайный IntTensor размера 10"
      ],
      "metadata": {
        "id": "yek_dUZfwIIn"
      }
    },
    {
      "cell_type": "code",
      "source": [
        "b = torch.randint(size=(10,), high=100)\n",
        "b"
      ],
      "metadata": {
        "colab": {
          "base_uri": "https://localhost:8080/"
        },
        "id": "YSr054qRvBt1",
        "outputId": "2f0a3cdf-a8af-489b-ca8f-336f2839accc"
      },
      "execution_count": 22,
      "outputs": [
        {
          "output_type": "execute_result",
          "data": {
            "text/plain": [
              "tensor([18, 64, 44, 72, 23,  3, 24, 79, 18, 35])"
            ]
          },
          "metadata": {},
          "execution_count": 22
        }
      ]
    },
    {
      "cell_type": "markdown",
      "source": [
        "Умножьте созданный FloatTensor на созданный IntTensor поэлементно"
      ],
      "metadata": {
        "id": "oSvLVg51wJcE"
      }
    },
    {
      "cell_type": "code",
      "source": [
        "mult = a.mul(b)\n",
        "mult"
      ],
      "metadata": {
        "colab": {
          "base_uri": "https://localhost:8080/"
        },
        "id": "3tOpQE-6wLrt",
        "outputId": "bcabab55-d87e-41d0-fa03-5b9870604b0b"
      },
      "execution_count": 26,
      "outputs": [
        {
          "output_type": "execute_result",
          "data": {
            "text/plain": [
              "tensor([[ 1.8103, 40.7262, 18.9125, 31.0858, 18.1495,  0.9228, 12.9012, 52.4226,\n",
              "          8.7875,  1.9432],\n",
              "        [12.7285,  1.9289,  2.5299, 27.6944,  5.1501,  0.4361, 23.2379, 49.3935,\n",
              "         13.7781,  8.5027],\n",
              "        [12.7783, 29.3566, 39.4446,  9.4063,  9.6007,  1.2804,  6.7902, 61.5459,\n",
              "          5.1699, 26.1311],\n",
              "        [12.0921, 58.1702, 35.2126,  2.6503, 10.8682,  1.6079, 12.9222, 17.9132,\n",
              "          7.0102, 27.5010],\n",
              "        [ 1.5932, 52.2382, 24.3038, 53.2277,  0.1993,  1.5353,  3.2026,  8.6614,\n",
              "         14.0960, 15.1556],\n",
              "        [ 3.7936, 50.4651, 30.0638, 40.3539, 10.9667,  1.1642,  2.9599, 46.0683,\n",
              "         16.4063, 29.2333]])"
            ]
          },
          "metadata": {},
          "execution_count": 26
        }
      ]
    },
    {
      "cell_type": "markdown",
      "source": [
        "Умножьте тензор матрично на себя, чтобы результат был размерности 6x6 Подсказка: .dot может не подойти"
      ],
      "metadata": {
        "id": "3C2E3rfxwb-2"
      }
    },
    {
      "cell_type": "code",
      "source": [
        "c = mult.matmul(mult.T)\n",
        "c"
      ],
      "metadata": {
        "colab": {
          "base_uri": "https://localhost:8080/"
        },
        "id": "yNuRAgzmwc27",
        "outputId": "05ebe8c3-61b9-4499-8df6-c2c8cd292bc0"
      },
      "execution_count": 34,
      "outputs": [
        {
          "output_type": "execute_result",
          "data": {
            "text/plain": [
              "tensor([[6311.7344, 4130.9595, 5842.7510, 4558.8276, 4898.3472, 6739.4312],\n",
              "        [4130.9595, 4207.6855, 4120.7476, 2000.7770, 2483.6555, 4215.1240],\n",
              "        [5842.7510, 4120.7476, 7306.8350, 5327.5752, 4040.8374, 6906.3086],\n",
              "        [4558.8276, 2000.7770, 5327.5752, 6190.9575, 4771.6250, 6050.5039],\n",
              "        [4898.3472, 2483.6555, 4040.8374, 4771.6250, 6671.3008, 6607.6460],\n",
              "        [6739.4312, 4215.1240, 6906.3086, 6050.5039, 6607.6460, 8469.8154]])"
            ]
          },
          "metadata": {},
          "execution_count": 34
        }
      ]
    },
    {
      "cell_type": "code",
      "source": [
        "c.size()"
      ],
      "metadata": {
        "colab": {
          "base_uri": "https://localhost:8080/"
        },
        "id": "GAomY7sIwpn0",
        "outputId": "e8886ed0-dcd0-4972-fd6e-c74f82107f1b"
      },
      "execution_count": 35,
      "outputs": [
        {
          "output_type": "execute_result",
          "data": {
            "text/plain": [
              "torch.Size([6, 6])"
            ]
          },
          "metadata": {},
          "execution_count": 35
        }
      ]
    },
    {
      "cell_type": "markdown",
      "source": [
        "Посчитайте производную функции y = x**3 + z - 75t в точке (1, 0.5, 2)"
      ],
      "metadata": {
        "id": "Phg3yAU1xDN4"
      }
    },
    {
      "cell_type": "code",
      "source": [
        "x = torch.Tensor([1])\n",
        "x.requires_grad = True\n",
        "z = torch.Tensor([0.5])\n",
        "z.requires_grad = True\n",
        "t = torch.Tensor([2])\n",
        "t.requires_grad = True\n",
        "y = x**3 + z - 75*t"
      ],
      "metadata": {
        "id": "vArJ9umNxEMm"
      },
      "execution_count": 59,
      "outputs": []
    },
    {
      "cell_type": "code",
      "source": [
        "y.backward()"
      ],
      "metadata": {
        "id": "lAUCy1dqxcvH"
      },
      "execution_count": 60,
      "outputs": []
    },
    {
      "cell_type": "code",
      "source": [
        "x.grad"
      ],
      "metadata": {
        "colab": {
          "base_uri": "https://localhost:8080/"
        },
        "id": "Qu_6MZAzzWEE",
        "outputId": "6d094ac9-8fee-4a58-d3b9-f5b73a307f36"
      },
      "execution_count": 61,
      "outputs": [
        {
          "output_type": "execute_result",
          "data": {
            "text/plain": [
              "tensor([3.])"
            ]
          },
          "metadata": {},
          "execution_count": 61
        }
      ]
    },
    {
      "cell_type": "code",
      "source": [
        "z.grad"
      ],
      "metadata": {
        "colab": {
          "base_uri": "https://localhost:8080/"
        },
        "id": "FG9nvce7zYmC",
        "outputId": "e59d4f3d-e721-4e50-cff2-61ae8c73e13e"
      },
      "execution_count": 63,
      "outputs": [
        {
          "output_type": "execute_result",
          "data": {
            "text/plain": [
              "tensor([1.])"
            ]
          },
          "metadata": {},
          "execution_count": 63
        }
      ]
    },
    {
      "cell_type": "code",
      "source": [
        "t.grad"
      ],
      "metadata": {
        "colab": {
          "base_uri": "https://localhost:8080/"
        },
        "id": "Ph_zwD9vzc1u",
        "outputId": "987630f6-67ba-4706-ae27-b90193037a05"
      },
      "execution_count": 64,
      "outputs": [
        {
          "output_type": "execute_result",
          "data": {
            "text/plain": [
              "tensor([-75.])"
            ]
          },
          "metadata": {},
          "execution_count": 64
        }
      ]
    },
    {
      "cell_type": "markdown",
      "source": [
        "Создайте единичный тензор размера 5x6"
      ],
      "metadata": {
        "id": "Rroj6KfsziEj"
      }
    },
    {
      "cell_type": "code",
      "source": [
        "ones = torch.ones(5,6)\n",
        "ones"
      ],
      "metadata": {
        "colab": {
          "base_uri": "https://localhost:8080/"
        },
        "id": "0Tf-yzMOzjBH",
        "outputId": "eec18c3a-ac25-48e9-fcdd-2c1f0951b1ea"
      },
      "execution_count": 65,
      "outputs": [
        {
          "output_type": "execute_result",
          "data": {
            "text/plain": [
              "tensor([[1., 1., 1., 1., 1., 1.],\n",
              "        [1., 1., 1., 1., 1., 1.],\n",
              "        [1., 1., 1., 1., 1., 1.],\n",
              "        [1., 1., 1., 1., 1., 1.],\n",
              "        [1., 1., 1., 1., 1., 1.]])"
            ]
          },
          "metadata": {},
          "execution_count": 65
        }
      ]
    },
    {
      "cell_type": "markdown",
      "source": [
        "Переведите его в формат numpy"
      ],
      "metadata": {
        "id": "niqegjn1zslY"
      }
    },
    {
      "cell_type": "code",
      "source": [
        "ones.numpy()"
      ],
      "metadata": {
        "colab": {
          "base_uri": "https://localhost:8080/"
        },
        "id": "AFjdv6OqztZj",
        "outputId": "b6e4df33-2b59-4235-f429-211b4eb39a68"
      },
      "execution_count": 67,
      "outputs": [
        {
          "output_type": "execute_result",
          "data": {
            "text/plain": [
              "array([[1., 1., 1., 1., 1., 1.],\n",
              "       [1., 1., 1., 1., 1., 1.],\n",
              "       [1., 1., 1., 1., 1., 1.],\n",
              "       [1., 1., 1., 1., 1., 1.],\n",
              "       [1., 1., 1., 1., 1., 1.]], dtype=float32)"
            ]
          },
          "metadata": {},
          "execution_count": 67
        }
      ]
    }
  ]
}