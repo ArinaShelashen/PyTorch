{
  "nbformat": 4,
  "nbformat_minor": 0,
  "metadata": {
    "colab": {
      "provenance": [],
      "gpuType": "T4"
    },
    "kernelspec": {
      "name": "python3",
      "display_name": "Python 3"
    },
    "language_info": {
      "name": "python"
    },
    "accelerator": "GPU"
  },
  "cells": [
    {
      "cell_type": "markdown",
      "source": [
        "**Итог:**\n",
        "1. Построена одна небольашя сеть вручную.\n",
        "2. Использована предобученная сеть ResNet50\n",
        "3. Использована предобученная сеть ResNet50 для данных с аугментацией (с помощью бибилиотеки Albumentations).\n",
        "\n",
        "**Выводы:**\n",
        "1. Нейросети - мощная вещь. Даже примитивная сетка (пробовала оставить 1 дропаут, 1 конволюционный слой с нормализацией, 2 линейных слоя) даёт показатели в районе 50% Accuracy на таких сложных данных.\n",
        "2. Предобученная огромная модель сразу сильно увеличивает Accuracy до 70-80%\n",
        "3. Использование аугментации (неслабой) немного снижает значение Accuracy. Но при этом Accuracy для тестовых данных стабильно и значительно выше, чем для тренировочных, что говорит о качественном обучении.\n",
        "Т.к. данные и так сложноватые, а при аугментации усложняются ещё больше, становятся разнообразнее, думаю, сетке просто необходимо чуть больше времени (эпох) для обучения. Переобучить такую сеть сложно, поэтому в итоге результат может получиться отличным.\n",
        "\n",
        "*Сравнительный график представлен в конце ноутбука*\n"
      ],
      "metadata": {
        "id": "gjBmsSdfRQtp"
      }
    },
    {
      "cell_type": "code",
      "execution_count": 1,
      "metadata": {
        "id": "vpRukiXomio8"
      },
      "outputs": [],
      "source": [
        "import numpy as np\n",
        "import torch\n",
        "\n",
        "from torch import nn\n",
        "from torch.nn import functional as F\n",
        "from PIL import Image\n",
        "from torchvision import transforms, datasets\n",
        "from tqdm import tqdm\n",
        "from torchsummary import summary\n",
        "from torchvision import models\n",
        "\n",
        "from sklearn.model_selection import train_test_split"
      ]
    },
    {
      "cell_type": "code",
      "source": [
        "device = 'cuda' if torch.cuda.is_available() else 'cpu'\n",
        "device"
      ],
      "metadata": {
        "colab": {
          "base_uri": "https://localhost:8080/",
          "height": 35
        },
        "id": "K-2eXvmMr5X4",
        "outputId": "8509e8b3-4323-4b97-c978-65f8f1876fb8"
      },
      "execution_count": 2,
      "outputs": [
        {
          "output_type": "execute_result",
          "data": {
            "text/plain": [
              "'cuda'"
            ],
            "application/vnd.google.colaboratory.intrinsic+json": {
              "type": "string"
            }
          },
          "metadata": {},
          "execution_count": 2
        }
      ]
    },
    {
      "cell_type": "code",
      "source": [
        "dataset = datasets.CIFAR10(root='data/', train=True, download=True)\n",
        "\n",
        "train, test = train_test_split(dataset, test_size=0.1, random_state=26, shuffle=True)"
      ],
      "metadata": {
        "colab": {
          "base_uri": "https://localhost:8080/"
        },
        "id": "F_kXyy7-nDPY",
        "outputId": "0b9c1c24-4934-4242-c60c-ddd18db12aaa"
      },
      "execution_count": 3,
      "outputs": [
        {
          "output_type": "stream",
          "name": "stdout",
          "text": [
            "Files already downloaded and verified\n"
          ]
        }
      ]
    },
    {
      "cell_type": "code",
      "source": [
        "class MyOwnCifar(torch.utils.data.Dataset):\n",
        "\n",
        "    def __init__(self, init_dataset, transform=None):\n",
        "        self._base_dataset = init_dataset\n",
        "        self.transform = transform\n",
        "\n",
        "    def __len__(self):\n",
        "        return len(self._base_dataset)\n",
        "\n",
        "    def __getitem__(self, idx):\n",
        "        img = self._base_dataset[idx][0]\n",
        "        if self.transform is not None:\n",
        "            img = self.transform(img)\n",
        "        return img, self._base_dataset[idx][1]\n",
        "\n",
        "class MyOwnCifarAug(torch.utils.data.Dataset):\n",
        "\n",
        "    def __init__(self, init_dataset, transform=None):\n",
        "        self._base_dataset = init_dataset\n",
        "        self.transform = transform\n",
        "\n",
        "    def __len__(self):\n",
        "        return len(self._base_dataset)\n",
        "\n",
        "    def __getitem__(self, idx):\n",
        "        img = self._base_dataset[idx][0]\n",
        "        if self.transform is not None:\n",
        "            img = self.transform(image=np.array(img))[\"image\"]\n",
        "        return img, self._base_dataset[idx][1]\n"
      ],
      "metadata": {
        "id": "R802sQtcnQdr"
      },
      "execution_count": 4,
      "outputs": []
    },
    {
      "cell_type": "code",
      "source": [
        "manual_train_trans = transforms.Compose([transforms.Resize(44),\n",
        "                                    transforms.RandomCrop(32, padding=4),\n",
        "                                    transforms.ToTensor()])\n",
        "\n",
        "\n",
        "manual_train_dataset = MyOwnCifar(train, manual_train_trans)\n",
        "manual_test_dataset = MyOwnCifar(test, transforms.ToTensor())\n",
        "\n",
        "\n",
        "\n",
        "manual_train_loader = torch.utils.data.DataLoader(manual_train_dataset,\n",
        "                          batch_size=128,\n",
        "                          shuffle=True,\n",
        "                          num_workers=1)\n",
        "manual_test_loader = torch.utils.data.DataLoader(manual_test_dataset,\n",
        "                          batch_size=128,\n",
        "                          shuffle=False,\n",
        "                          num_workers=1)"
      ],
      "metadata": {
        "id": "Htjo3y4bn698"
      },
      "execution_count": 5,
      "outputs": []
    },
    {
      "cell_type": "code",
      "source": [
        "class Net(nn.Module):\n",
        "\n",
        "    def __init__(self):\n",
        "        super(Net, self).__init__()\n",
        "        self.dp_three = nn.Dropout(0.15)\n",
        "        self.dp_four = nn.Dropout(0.25)\n",
        "\n",
        "        self.bn_one = torch.nn.BatchNorm2d(3)\n",
        "        self.conv_one = torch.nn.Conv2d(3, 30, 3)\n",
        "        self.bn_two = torch.nn.BatchNorm2d(30)\n",
        "        self.conv_two = torch.nn.Conv2d(30, 60, 3)\n",
        "        self.bn_three = torch.nn.BatchNorm2d(60)\n",
        "        self.conv_three = torch.nn.Conv2d(60, 120, 3)\n",
        "        self.bn_four = torch.nn.BatchNorm2d(120)\n",
        "        self.fc1 = torch.nn.Linear(480, 200)\n",
        "        self.fc2 = torch.nn.Linear(200, 60)\n",
        "        self.out = torch.nn.Linear(60, 10)\n",
        "\n",
        "\n",
        "    def forward(self, x):\n",
        "        x = self.bn_one(x)\n",
        "        x = self.conv_one(x)\n",
        "        x = F.relu(x)\n",
        "        x = F.max_pool2d(x, 2)\n",
        "\n",
        "        x = self.bn_two(x)\n",
        "        x = self.conv_two(x)\n",
        "        x = F.relu(x)\n",
        "        x = F.max_pool2d(x, 2)\n",
        "\n",
        "        x = self.bn_three(x)\n",
        "        x = self.conv_three(x)\n",
        "        x = F.relu(x)\n",
        "        x = F.max_pool2d(x, 2)\n",
        "\n",
        "        x = self.bn_four(x)\n",
        "        x = x.view(x.size(0), -1)\n",
        "        x = self.dp_three(x)\n",
        "        x = self.fc1(x)\n",
        "        x = F.relu(x)\n",
        "        x = self.dp_four(x)\n",
        "        x = self.fc2(x)\n",
        "        x = F.relu(x)\n",
        "        return self.out(x)\n",
        "\n",
        "net = Net().to(device)\n",
        "print(net)"
      ],
      "metadata": {
        "colab": {
          "base_uri": "https://localhost:8080/"
        },
        "id": "1ZKS7fZCoR2A",
        "outputId": "0bb948c1-1fd0-4c6e-c03c-7d8bbdfcf173"
      },
      "execution_count": 6,
      "outputs": [
        {
          "output_type": "stream",
          "name": "stdout",
          "text": [
            "Net(\n",
            "  (dp_three): Dropout(p=0.15, inplace=False)\n",
            "  (dp_four): Dropout(p=0.25, inplace=False)\n",
            "  (bn_one): BatchNorm2d(3, eps=1e-05, momentum=0.1, affine=True, track_running_stats=True)\n",
            "  (conv_one): Conv2d(3, 30, kernel_size=(3, 3), stride=(1, 1))\n",
            "  (bn_two): BatchNorm2d(30, eps=1e-05, momentum=0.1, affine=True, track_running_stats=True)\n",
            "  (conv_two): Conv2d(30, 60, kernel_size=(3, 3), stride=(1, 1))\n",
            "  (bn_three): BatchNorm2d(60, eps=1e-05, momentum=0.1, affine=True, track_running_stats=True)\n",
            "  (conv_three): Conv2d(60, 120, kernel_size=(3, 3), stride=(1, 1))\n",
            "  (bn_four): BatchNorm2d(120, eps=1e-05, momentum=0.1, affine=True, track_running_stats=True)\n",
            "  (fc1): Linear(in_features=480, out_features=200, bias=True)\n",
            "  (fc2): Linear(in_features=200, out_features=60, bias=True)\n",
            "  (out): Linear(in_features=60, out_features=10, bias=True)\n",
            ")\n"
          ]
        }
      ]
    },
    {
      "cell_type": "code",
      "source": [
        "summary(net.to(device), input_size=(3,32,32))"
      ],
      "metadata": {
        "colab": {
          "base_uri": "https://localhost:8080/"
        },
        "id": "DVbdQJYerxdO",
        "outputId": "169ef160-7bcf-46db-cdd7-905c5dd995c1"
      },
      "execution_count": 7,
      "outputs": [
        {
          "output_type": "stream",
          "name": "stdout",
          "text": [
            "----------------------------------------------------------------\n",
            "        Layer (type)               Output Shape         Param #\n",
            "================================================================\n",
            "       BatchNorm2d-1            [-1, 3, 32, 32]               6\n",
            "            Conv2d-2           [-1, 30, 30, 30]             840\n",
            "       BatchNorm2d-3           [-1, 30, 15, 15]              60\n",
            "            Conv2d-4           [-1, 60, 13, 13]          16,260\n",
            "       BatchNorm2d-5             [-1, 60, 6, 6]             120\n",
            "            Conv2d-6            [-1, 120, 4, 4]          64,920\n",
            "       BatchNorm2d-7            [-1, 120, 2, 2]             240\n",
            "           Dropout-8                  [-1, 480]               0\n",
            "            Linear-9                  [-1, 200]          96,200\n",
            "          Dropout-10                  [-1, 200]               0\n",
            "           Linear-11                   [-1, 60]          12,060\n",
            "           Linear-12                   [-1, 10]             610\n",
            "================================================================\n",
            "Total params: 191,316\n",
            "Trainable params: 191,316\n",
            "Non-trainable params: 0\n",
            "----------------------------------------------------------------\n",
            "Input size (MB): 0.01\n",
            "Forward/backward pass size (MB): 0.40\n",
            "Params size (MB): 0.73\n",
            "Estimated Total Size (MB): 1.14\n",
            "----------------------------------------------------------------\n"
          ]
        }
      ]
    },
    {
      "cell_type": "code",
      "source": [
        "optimizer = torch.optim.Adam(net.parameters(), lr=0.01)\n",
        "criterion = nn.CrossEntropyLoss()\n",
        "\n",
        "manual_acc = []\n",
        "for epoch in tqdm(range(10)):\n",
        "    net.train()\n",
        "    right, num = 0, 0\n",
        "    for i, data in enumerate(manual_train_loader, 0):\n",
        "        inputs, labels = data[0].to(device), data[1].to(device)\n",
        "        optimizer.zero_grad()\n",
        "\n",
        "        outputs = net(inputs)\n",
        "        loss = criterion(outputs, labels)\n",
        "        loss.backward()\n",
        "        optimizer.step()\n",
        "        right += (labels == torch.max(outputs, 1)[1]).sum()\n",
        "        num += len(labels)\n",
        "\n",
        "    net.eval()\n",
        "    loss_accumed, test_right, test_num = 0, 0, 0\n",
        "    for X, y in manual_test_loader:\n",
        "        output = net(X.to(device))\n",
        "        loss = criterion(output, y.to(device))\n",
        "        loss_accumed += loss\n",
        "        test_num += len(y)\n",
        "        test_right += (y.to(device) == torch.max(output, 1)[1]).sum()\n",
        "\n",
        "    train_acc = right/num\n",
        "    test_acc = test_right/test_num\n",
        "    manual_acc.append(test_acc)\n",
        "    print(f\"Epoch {epoch+1}; test_loss {loss_accumed:.3f}; test_acc {test_acc:.3f}; train_acc {train_acc:.3f}\")\n",
        "\n",
        "print('Training is finished!')"
      ],
      "metadata": {
        "colab": {
          "base_uri": "https://localhost:8080/"
        },
        "id": "XEdjzAfzuT91",
        "outputId": "3bf1378b-bd5c-49cc-ae35-63af51288e50"
      },
      "execution_count": 8,
      "outputs": [
        {
          "output_type": "stream",
          "name": "stderr",
          "text": [
            " 10%|█         | 1/10 [00:14<02:06, 14.01s/it]"
          ]
        },
        {
          "output_type": "stream",
          "name": "stdout",
          "text": [
            "Epoch 1; test_loss 71.472; test_acc 0.364; train_acc 0.285\n"
          ]
        },
        {
          "output_type": "stream",
          "name": "stderr",
          "text": [
            "\r 20%|██        | 2/10 [00:27<01:49, 13.74s/it]"
          ]
        },
        {
          "output_type": "stream",
          "name": "stdout",
          "text": [
            "Epoch 2; test_loss 64.687; test_acc 0.426; train_acc 0.387\n"
          ]
        },
        {
          "output_type": "stream",
          "name": "stderr",
          "text": [
            "\r 30%|███       | 3/10 [00:42<01:40, 14.31s/it]"
          ]
        },
        {
          "output_type": "stream",
          "name": "stdout",
          "text": [
            "Epoch 3; test_loss 56.568; test_acc 0.497; train_acc 0.431\n"
          ]
        },
        {
          "output_type": "stream",
          "name": "stderr",
          "text": [
            "\r 40%|████      | 4/10 [00:56<01:25, 14.30s/it]"
          ]
        },
        {
          "output_type": "stream",
          "name": "stdout",
          "text": [
            "Epoch 4; test_loss 59.609; test_acc 0.478; train_acc 0.472\n"
          ]
        },
        {
          "output_type": "stream",
          "name": "stderr",
          "text": [
            "\r 50%|█████     | 5/10 [01:10<01:11, 14.21s/it]"
          ]
        },
        {
          "output_type": "stream",
          "name": "stdout",
          "text": [
            "Epoch 5; test_loss 57.040; test_acc 0.524; train_acc 0.490\n"
          ]
        },
        {
          "output_type": "stream",
          "name": "stderr",
          "text": [
            "\r 60%|██████    | 6/10 [01:24<00:56, 14.05s/it]"
          ]
        },
        {
          "output_type": "stream",
          "name": "stdout",
          "text": [
            "Epoch 6; test_loss 54.318; test_acc 0.526; train_acc 0.506\n"
          ]
        },
        {
          "output_type": "stream",
          "name": "stderr",
          "text": [
            "\r 70%|███████   | 7/10 [01:38<00:42, 14.13s/it]"
          ]
        },
        {
          "output_type": "stream",
          "name": "stdout",
          "text": [
            "Epoch 7; test_loss 50.789; test_acc 0.566; train_acc 0.521\n"
          ]
        },
        {
          "output_type": "stream",
          "name": "stderr",
          "text": [
            "\r 80%|████████  | 8/10 [01:53<00:28, 14.13s/it]"
          ]
        },
        {
          "output_type": "stream",
          "name": "stdout",
          "text": [
            "Epoch 8; test_loss 50.351; test_acc 0.572; train_acc 0.530\n"
          ]
        },
        {
          "output_type": "stream",
          "name": "stderr",
          "text": [
            "\r 90%|█████████ | 9/10 [02:06<00:14, 14.01s/it]"
          ]
        },
        {
          "output_type": "stream",
          "name": "stdout",
          "text": [
            "Epoch 9; test_loss 52.821; test_acc 0.558; train_acc 0.531\n"
          ]
        },
        {
          "output_type": "stream",
          "name": "stderr",
          "text": [
            "100%|██████████| 10/10 [02:20<00:00, 14.07s/it]"
          ]
        },
        {
          "output_type": "stream",
          "name": "stdout",
          "text": [
            "Epoch 10; test_loss 53.144; test_acc 0.556; train_acc 0.544\n",
            "Training is finished!\n"
          ]
        },
        {
          "output_type": "stream",
          "name": "stderr",
          "text": [
            "\n"
          ]
        }
      ]
    },
    {
      "cell_type": "code",
      "source": [
        "resnet50 = models.resnet50(pretrained=True)\n",
        "\n",
        "# Необходимые трансформации\n",
        "resnet_train_transform = transforms.Compose([transforms.Resize(256),\n",
        "                                    transforms.RandomCrop(224, padding=4),\n",
        "                                    transforms.ToTensor(),\n",
        "                                    transforms.Normalize(mean=[0.485, 0.456, 0.406],\n",
        "                                                         std=[0.229, 0.224, 0.225])])\n",
        "\n",
        "resnet_test_transform = transforms.Compose([transforms.Resize(224),\n",
        "                                            transforms.ToTensor(),\n",
        "                                       transforms.Normalize(mean=[0.485, 0.456, 0.406],\n",
        "                                                         std=[0.229, 0.224, 0.225])])\n",
        "\n",
        "resnet_train_dataset = MyOwnCifar(train, resnet_train_transform)\n",
        "resnet_test_dataset = MyOwnCifar(test, resnet_test_transform)\n",
        "\n",
        "\n",
        "resnet_train_loader = torch.utils.data.DataLoader(resnet_train_dataset,\n",
        "                          batch_size=128,\n",
        "                          shuffle=True,\n",
        "                          num_workers=1)\n",
        "resnet_test_loader = torch.utils.data.DataLoader(resnet_test_dataset,\n",
        "                          batch_size=128,\n",
        "                          shuffle=False,\n",
        "                          num_workers=1)\n",
        "\n",
        "for param in resnet50.parameters():\n",
        "  param.requires_grad = False\n",
        "\n",
        "#print(resnet50)\n",
        "\n",
        "in_features = resnet50.fc.in_features\n",
        "resnet50.fc = nn.Linear(in_features=in_features, out_features=10)\n",
        "\n",
        "params_for_optim = []\n",
        "for name, param in resnet50.named_parameters():\n",
        "  if param.requires_grad == True:\n",
        "    params_for_optim.append(param)\n",
        "\n",
        "#summary(resnet50.to(device), input_size=(3,32,32))\n",
        "resnet50 = resnet50.to(device)\n",
        "optimizer = torch.optim.Adam(params_for_optim, lr=0.01)\n",
        "criterion = nn.CrossEntropyLoss()\n",
        "\n",
        ""
      ],
      "metadata": {
        "colab": {
          "base_uri": "https://localhost:8080/"
        },
        "id": "aSCpM26s0BEt",
        "outputId": "4b296512-71ee-466d-f4a4-a4f56daf999f"
      },
      "execution_count": 9,
      "outputs": [
        {
          "output_type": "stream",
          "name": "stderr",
          "text": [
            "/usr/local/lib/python3.10/dist-packages/torchvision/models/_utils.py:208: UserWarning: The parameter 'pretrained' is deprecated since 0.13 and may be removed in the future, please use 'weights' instead.\n",
            "  warnings.warn(\n",
            "/usr/local/lib/python3.10/dist-packages/torchvision/models/_utils.py:223: UserWarning: Arguments other than a weight enum or `None` for 'weights' are deprecated since 0.13 and may be removed in the future. The current behavior is equivalent to passing `weights=ResNet50_Weights.IMAGENET1K_V1`. You can also use `weights=ResNet50_Weights.DEFAULT` to get the most up-to-date weights.\n",
            "  warnings.warn(msg)\n"
          ]
        }
      ]
    },
    {
      "cell_type": "code",
      "source": [
        "resnet_acc = []\n",
        "for epoch in tqdm(range(10)):\n",
        "    resnet50.train()\n",
        "    right, num = 0, 0\n",
        "    for i, data in enumerate(resnet_train_loader, 0):\n",
        "        inputs, labels = data[0].to(device), data[1].to(device)\n",
        "        optimizer.zero_grad()\n",
        "\n",
        "        outputs = resnet50(inputs)\n",
        "        loss = criterion(outputs, labels)\n",
        "        loss.backward()\n",
        "        optimizer.step()\n",
        "        right += (labels == torch.max(outputs, 1)[1]).sum()\n",
        "        num += len(labels)\n",
        "\n",
        "    resnet50.eval()\n",
        "    loss_accumed, test_right, test_num = 0, 0, 0\n",
        "    for X, y in resnet_test_loader:\n",
        "        output = resnet50(X.to(device))\n",
        "        loss = criterion(output, y.to(device))\n",
        "        loss_accumed += loss\n",
        "        test_num += len(y)\n",
        "        test_right += (y.to(device) == torch.max(output, 1)[1]).sum()\n",
        "\n",
        "    train_acc = right/num\n",
        "    test_acc = test_right/test_num\n",
        "    resnet_acc.append(test_acc)\n",
        "    print(f\"Epoch {epoch+1}; test_loss {loss_accumed:.3f}; test_acc {test_acc:.3f}; train_acc {train_acc:.3f}\")\n",
        "\n",
        "print('Training is finished!')"
      ],
      "metadata": {
        "colab": {
          "base_uri": "https://localhost:8080/"
        },
        "id": "sgKZCl-y3MBg",
        "outputId": "284837e1-19e7-450f-a216-df8995915a11"
      },
      "execution_count": 10,
      "outputs": [
        {
          "output_type": "stream",
          "name": "stderr",
          "text": [
            " 10%|█         | 1/10 [02:36<23:31, 156.79s/it]"
          ]
        },
        {
          "output_type": "stream",
          "name": "stdout",
          "text": [
            "Epoch 1; test_loss 26.493; test_acc 0.774; train_acc 0.674\n"
          ]
        },
        {
          "output_type": "stream",
          "name": "stderr",
          "text": [
            "\r 20%|██        | 2/10 [05:13<20:52, 156.54s/it]"
          ]
        },
        {
          "output_type": "stream",
          "name": "stdout",
          "text": [
            "Epoch 2; test_loss 26.317; test_acc 0.785; train_acc 0.738\n"
          ]
        },
        {
          "output_type": "stream",
          "name": "stderr",
          "text": [
            "\r 30%|███       | 3/10 [07:49<18:15, 156.45s/it]"
          ]
        },
        {
          "output_type": "stream",
          "name": "stdout",
          "text": [
            "Epoch 3; test_loss 38.325; test_acc 0.744; train_acc 0.737\n"
          ]
        },
        {
          "output_type": "stream",
          "name": "stderr",
          "text": [
            "\r 40%|████      | 4/10 [10:25<15:38, 156.46s/it]"
          ]
        },
        {
          "output_type": "stream",
          "name": "stdout",
          "text": [
            "Epoch 4; test_loss 27.256; test_acc 0.785; train_acc 0.745\n"
          ]
        },
        {
          "output_type": "stream",
          "name": "stderr",
          "text": [
            "\r 50%|█████     | 5/10 [13:02<13:02, 156.40s/it]"
          ]
        },
        {
          "output_type": "stream",
          "name": "stdout",
          "text": [
            "Epoch 5; test_loss 29.162; test_acc 0.788; train_acc 0.753\n"
          ]
        },
        {
          "output_type": "stream",
          "name": "stderr",
          "text": [
            "\r 60%|██████    | 6/10 [15:38<10:25, 156.32s/it]"
          ]
        },
        {
          "output_type": "stream",
          "name": "stdout",
          "text": [
            "Epoch 6; test_loss 27.927; test_acc 0.790; train_acc 0.759\n"
          ]
        },
        {
          "output_type": "stream",
          "name": "stderr",
          "text": [
            "\r 70%|███████   | 7/10 [18:14<07:48, 156.31s/it]"
          ]
        },
        {
          "output_type": "stream",
          "name": "stdout",
          "text": [
            "Epoch 7; test_loss 27.779; test_acc 0.801; train_acc 0.759\n"
          ]
        },
        {
          "output_type": "stream",
          "name": "stderr",
          "text": [
            "\r 80%|████████  | 8/10 [20:50<05:12, 156.28s/it]"
          ]
        },
        {
          "output_type": "stream",
          "name": "stdout",
          "text": [
            "Epoch 8; test_loss 27.519; test_acc 0.814; train_acc 0.759\n"
          ]
        },
        {
          "output_type": "stream",
          "name": "stderr",
          "text": [
            "\r 90%|█████████ | 9/10 [23:28<02:36, 156.58s/it]"
          ]
        },
        {
          "output_type": "stream",
          "name": "stdout",
          "text": [
            "Epoch 9; test_loss 29.594; test_acc 0.791; train_acc 0.771\n"
          ]
        },
        {
          "output_type": "stream",
          "name": "stderr",
          "text": [
            "100%|██████████| 10/10 [26:03<00:00, 156.40s/it]"
          ]
        },
        {
          "output_type": "stream",
          "name": "stdout",
          "text": [
            "Epoch 10; test_loss 23.891; test_acc 0.819; train_acc 0.772\n",
            "Training is finished!\n"
          ]
        },
        {
          "output_type": "stream",
          "name": "stderr",
          "text": [
            "\n"
          ]
        }
      ]
    },
    {
      "cell_type": "code",
      "source": [
        "import albumentations as alb\n",
        "from albumentations.pytorch import ToTensorV2\n",
        "import numpy as np"
      ],
      "metadata": {
        "id": "MN43avff3_q8"
      },
      "execution_count": 11,
      "outputs": []
    },
    {
      "cell_type": "code",
      "source": [
        "alb_train_transform = alb.Compose([\n",
        "    alb.Resize(height=256, width=256),\n",
        "    alb.HorizontalFlip(p=0.5),\n",
        "    alb.RandomBrightnessContrast(p=0.2),\n",
        "    alb.RGBShift(r_shift_limit=(-5,5),g_shift_limit=(-5,5),b_shift_limit=(-5,5)),\n",
        "    alb.GaussNoise(p=0.2),\n",
        "    alb.RandomCrop(height=224, width=224),\n",
        "    alb.Rotate(limit=60, p=0.3),\n",
        "    alb.Normalize(mean=[0.485, 0.456, 0.406], std=[0.229, 0.224, 0.225]),\n",
        "    ToTensorV2()]\n",
        ")\n",
        "\n",
        "alb_test_transform = alb.Compose(\n",
        "    [alb.Resize(height=256, width=256),\n",
        "    alb.Normalize(mean=[0.485, 0.456, 0.406], std=[0.229, 0.224, 0.225]),\n",
        "    ToTensorV2()]\n",
        ")\n"
      ],
      "metadata": {
        "id": "xjF4XFTeuU31"
      },
      "execution_count": 12,
      "outputs": []
    },
    {
      "cell_type": "code",
      "source": [
        "resnet50aug = models.resnet50(pretrained=True)\n",
        "\n",
        "\n",
        "\n",
        "aug_train_dataset = MyOwnCifarAug(train, alb_train_transform)\n",
        "aug_test_dataset = MyOwnCifarAug(test, alb_test_transform)\n",
        "\n",
        "\n",
        "aug_train_loader = torch.utils.data.DataLoader(aug_train_dataset,\n",
        "                          batch_size=128,\n",
        "                          shuffle=True,\n",
        "                          num_workers=1)\n",
        "aug_test_loader = torch.utils.data.DataLoader(aug_test_dataset,\n",
        "                          batch_size=128,\n",
        "                          shuffle=False,\n",
        "                          num_workers=1)\n",
        "\n",
        "for param in resnet50aug.parameters():\n",
        "  param.requires_grad = False\n",
        "\n",
        "in_features = resnet50aug.fc.in_features\n",
        "resnet50aug.fc = nn.Linear(in_features=in_features, out_features=10)\n",
        "\n",
        "params_for_optim = []\n",
        "for name, param in resnet50aug.named_parameters():\n",
        "  if param.requires_grad == True:\n",
        "    params_for_optim.append(param)\n",
        "\n",
        "resnet50aug = resnet50aug.to(device)\n",
        "optimizer = torch.optim.Adam(params_for_optim, lr=0.01)\n",
        "criterion = nn.CrossEntropyLoss().to(device)"
      ],
      "metadata": {
        "id": "BSy5KdDcyEv1"
      },
      "execution_count": 13,
      "outputs": []
    },
    {
      "cell_type": "code",
      "source": [
        "for param in resnet50aug.parameters():\n",
        "  if not param.data.is_cuda:\n",
        "    print(param.data)"
      ],
      "metadata": {
        "id": "nrfF014s_82G"
      },
      "execution_count": 14,
      "outputs": []
    },
    {
      "cell_type": "code",
      "source": [
        "resnet_aug_acc = []\n",
        "for epoch in tqdm(range(10)):\n",
        "    resnet50aug.train()\n",
        "    right, num = 0, 0\n",
        "    for i, data in enumerate(aug_train_loader, 0):\n",
        "        inputs, labels = data[0].to(device), data[1].to(device)\n",
        "        optimizer.zero_grad()\n",
        "        outputs = resnet50aug(inputs)\n",
        "        loss = criterion(outputs, labels)\n",
        "        loss.backward()\n",
        "        optimizer.step()\n",
        "        right += (labels == torch.max(outputs, 1)[1]).sum()\n",
        "        num += len(labels)\n",
        "\n",
        "    resnet50aug.eval()\n",
        "    loss_accumed, test_right, test_num = 0, 0, 0\n",
        "    for i, data in enumerate(aug_test_loader, 0):\n",
        "        X, y = data[0].to(device), data[1].to(device)\n",
        "        # X = torch.FloatTensor(X)\n",
        "        # y = torch.FloatTensor(y)\n",
        "        output = resnet50aug(X)\n",
        "        loss = criterion(output, y)\n",
        "        loss_accumed += loss\n",
        "        test_num += len(y)\n",
        "        test_right += (y == torch.max(output, 1)[1]).sum()\n",
        "\n",
        "    train_acc = right/num\n",
        "    test_acc = test_right/test_num\n",
        "    resnet_aug_acc.append(test_acc)\n",
        "    print(f\"Epoch {epoch+1}; test_loss {loss_accumed:.3f}; test_acc {test_acc:.3f}; train_acc {train_acc:.3f}\")\n",
        "\n",
        "print('Training is finished!')"
      ],
      "metadata": {
        "colab": {
          "base_uri": "https://localhost:8080/"
        },
        "id": "7CEshW1iy-An",
        "outputId": "0d417c02-8c2d-4e5b-d93e-493bb14204c5"
      },
      "execution_count": 15,
      "outputs": [
        {
          "output_type": "stream",
          "name": "stderr",
          "text": [
            " 10%|█         | 1/10 [02:51<25:43, 171.52s/it]"
          ]
        },
        {
          "output_type": "stream",
          "name": "stdout",
          "text": [
            "Epoch 1; test_loss 33.560; test_acc 0.701; train_acc 0.605\n"
          ]
        },
        {
          "output_type": "stream",
          "name": "stderr",
          "text": [
            "\r 20%|██        | 2/10 [05:55<23:51, 178.97s/it]"
          ]
        },
        {
          "output_type": "stream",
          "name": "stdout",
          "text": [
            "Epoch 2; test_loss 37.065; test_acc 0.699; train_acc 0.658\n"
          ]
        },
        {
          "output_type": "stream",
          "name": "stderr",
          "text": [
            "\r 30%|███       | 3/10 [08:49<20:35, 176.49s/it]"
          ]
        },
        {
          "output_type": "stream",
          "name": "stdout",
          "text": [
            "Epoch 3; test_loss 32.319; test_acc 0.737; train_acc 0.666\n"
          ]
        },
        {
          "output_type": "stream",
          "name": "stderr",
          "text": [
            "\r 40%|████      | 4/10 [11:40<17:27, 174.53s/it]"
          ]
        },
        {
          "output_type": "stream",
          "name": "stdout",
          "text": [
            "Epoch 4; test_loss 29.003; test_acc 0.760; train_acc 0.677\n"
          ]
        },
        {
          "output_type": "stream",
          "name": "stderr",
          "text": [
            "\r 50%|█████     | 5/10 [14:32<14:27, 173.47s/it]"
          ]
        },
        {
          "output_type": "stream",
          "name": "stdout",
          "text": [
            "Epoch 5; test_loss 35.768; test_acc 0.722; train_acc 0.684\n"
          ]
        },
        {
          "output_type": "stream",
          "name": "stderr",
          "text": [
            "\r 60%|██████    | 6/10 [17:28<11:37, 174.37s/it]"
          ]
        },
        {
          "output_type": "stream",
          "name": "stdout",
          "text": [
            "Epoch 6; test_loss 30.027; test_acc 0.750; train_acc 0.682\n"
          ]
        },
        {
          "output_type": "stream",
          "name": "stderr",
          "text": [
            "\r 70%|███████   | 7/10 [20:21<08:41, 173.79s/it]"
          ]
        },
        {
          "output_type": "stream",
          "name": "stdout",
          "text": [
            "Epoch 7; test_loss 34.512; test_acc 0.734; train_acc 0.685\n"
          ]
        },
        {
          "output_type": "stream",
          "name": "stderr",
          "text": [
            "\r 80%|████████  | 8/10 [23:13<05:46, 173.39s/it]"
          ]
        },
        {
          "output_type": "stream",
          "name": "stdout",
          "text": [
            "Epoch 8; test_loss 26.355; test_acc 0.798; train_acc 0.689\n"
          ]
        },
        {
          "output_type": "stream",
          "name": "stderr",
          "text": [
            "\r 90%|█████████ | 9/10 [26:22<02:58, 178.13s/it]"
          ]
        },
        {
          "output_type": "stream",
          "name": "stdout",
          "text": [
            "Epoch 9; test_loss 34.152; test_acc 0.741; train_acc 0.693\n"
          ]
        },
        {
          "output_type": "stream",
          "name": "stderr",
          "text": [
            "100%|██████████| 10/10 [29:33<00:00, 177.36s/it]"
          ]
        },
        {
          "output_type": "stream",
          "name": "stdout",
          "text": [
            "Epoch 10; test_loss 25.762; test_acc 0.790; train_acc 0.699\n",
            "Training is finished!\n"
          ]
        },
        {
          "output_type": "stream",
          "name": "stderr",
          "text": [
            "\n"
          ]
        }
      ]
    },
    {
      "cell_type": "code",
      "source": [
        "import matplotlib.pyplot as plt\n",
        "import numpy as np"
      ],
      "metadata": {
        "id": "EbZbxgEvMzTK"
      },
      "execution_count": 23,
      "outputs": []
    },
    {
      "cell_type": "code",
      "source": [
        "manual_acc_copy = manual_acc.copy()\n",
        "resnet_acc_copy = resnet_acc.copy()\n",
        "resnet_aug_acc_copy = resnet_aug_acc.copy()"
      ],
      "metadata": {
        "id": "farQtM2yUEj5"
      },
      "execution_count": 25,
      "outputs": []
    },
    {
      "cell_type": "code",
      "source": [
        "for l in [manual_acc_copy, resnet_acc_copy, resnet_aug_acc_copy]:\n",
        "  for i in range(len(l)):\n",
        "    l[i] = l[i].cpu()\n",
        ""
      ],
      "metadata": {
        "id": "0qpMxoNgTXyE"
      },
      "execution_count": 33,
      "outputs": []
    },
    {
      "cell_type": "code",
      "source": [],
      "metadata": {
        "colab": {
          "base_uri": "https://localhost:8080/"
        },
        "id": "tJky2uMPUWpS",
        "outputId": "8d99d8bc-a9b1-4ce1-c020-962525a036c9"
      },
      "execution_count": 34,
      "outputs": [
        {
          "output_type": "execute_result",
          "data": {
            "text/plain": [
              "[tensor(0.3638),\n",
              " tensor(0.4264),\n",
              " tensor(0.4966),\n",
              " tensor(0.4778),\n",
              " tensor(0.5236),\n",
              " tensor(0.5262),\n",
              " tensor(0.5664),\n",
              " tensor(0.5724),\n",
              " tensor(0.5576),\n",
              " tensor(0.5558)]"
            ]
          },
          "metadata": {},
          "execution_count": 34
        }
      ]
    },
    {
      "cell_type": "code",
      "source": [
        "plt.figure(figsize=(8,6))\n",
        "\n",
        "plt.plot(range(len(manual_acc_copy)), manual_acc_copy, color='b', label='Manual Net')\n",
        "plt.plot(range(len(resnet_acc_copy)), resnet_acc_copy, color='c', label='Resnet50')\n",
        "plt.plot(range(len(resnet_aug_acc_copy)), resnet_aug_acc_copy, color='m', label='Resnet50+Augmentation')\n",
        "\n",
        "\n",
        "plt.xlabel(\"Epochs\")\n",
        "plt.ylabel(\"Test Accuracy\")\n",
        "plt.title(\"Comparison\")\n",
        "\n",
        "plt.ylim(0,1)\n",
        "plt.legend()\n",
        "plt.grid()\n",
        "\n",
        "plt.show()"
      ],
      "metadata": {
        "colab": {
          "base_uri": "https://localhost:8080/",
          "height": 564
        },
        "id": "2lgyUttNM0tI",
        "outputId": "eba08249-b374-4424-c990-56c436d9b799"
      },
      "execution_count": 41,
      "outputs": [
        {
          "output_type": "display_data",
          "data": {
            "text/plain": [
              "<Figure size 800x600 with 1 Axes>"
            ],
            "image/png": "[encoded data removed]"
          },
          "metadata": {}
        }
      ]
    }
  ]
}
